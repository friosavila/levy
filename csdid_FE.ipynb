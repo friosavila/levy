{
  "cells": [
    {
      "cell_type": "markdown",
      "metadata": {},
      "source": [
        "# csdid with RC/Panel\n",
        "\n",
        "First. Some other tools. Please copy\n",
        "[this](https://friosavila.github.io/stpackages/fra/fra.ado) file, run\n",
        "it, and type:\n",
        "\n",
        "``` stata\n",
        "** just for data example\n",
        "ssc install frause\n",
        "** for installing csdid2\n",
        "fra install fra\n",
        "fra install csdid2\n",
        "```\n",
        "\n",
        "Now the example.\n",
        "\n",
        "First Run csdid with panel data"
      ],
      "id": "96db14c6-c02c-4e0c-84ba-63b0d4cf2e3a"
    },
    {
      "cell_type": "code",
      "execution_count": 1,
      "metadata": {},
      "outputs": [
        {
          "output_type": "stream",
          "name": "stdout",
          "text": [
            "(Written by R.              )\n",
            "............\n",
            "Difference-in-difference with Multiple Time Periods\n",
            "\n",
            "                                                         Number of obs = 2,500\n",
            "Outcome model  : regression adjustment\n",
            "Treatment model: none\n",
            "------------------------------------------------------------------------------\n",
            "             | Coefficient  Std. err.      z    P>|z|     [95% conf. interval]\n",
            "-------------+----------------------------------------------------------------\n",
            "g2004        |\n",
            " t_2003_2004 |  -.0105032    .023251    -0.45   0.651    -.0560744    .0350679\n",
            " t_2003_2005 |  -.0704232   .0309848    -2.27   0.023    -.1311522   -.0096941\n",
            " t_2003_2006 |  -.1372587   .0364357    -3.77   0.000    -.2086713   -.0658461\n",
            " t_2003_2007 |  -.1008114   .0343592    -2.93   0.003    -.1681542   -.0334685\n",
            "-------------+----------------------------------------------------------------\n",
            "g2006        |\n",
            " t_2003_2004 |   .0065201   .0233268     0.28   0.780    -.0391996    .0522398\n",
            " t_2004_2005 |  -.0027508   .0195586    -0.14   0.888    -.0410849    .0355833\n",
            " t_2005_2006 |  -.0045946   .0177552    -0.26   0.796    -.0393942    .0302049\n",
            " t_2005_2007 |  -.0412245   .0202292    -2.04   0.042    -.0808729    -.001576\n",
            "-------------+----------------------------------------------------------------\n",
            "g2007        |\n",
            " t_2003_2004 |   .0305067   .0150336     2.03   0.042     .0010414    .0599719\n",
            " t_2004_2005 |  -.0027259   .0163958    -0.17   0.868    -.0348611    .0294093\n",
            " t_2005_2006 |  -.0310871   .0178775    -1.74   0.082    -.0661264    .0039522\n",
            " t_2006_2007 |  -.0260544   .0166554    -1.56   0.118    -.0586985    .0065896\n",
            "------------------------------------------------------------------------------\n",
            "Control: Never Treated\n",
            "\n",
            "See Callaway and Sant'Anna (2021) for details"
          ]
        }
      ],
      "source": [
        "frause mpdta, clear\n",
        "set seed 1\n",
        "csdid lemp, ivar( countyreal) gvar(first) time(year)"
      ],
      "id": "55fb3a26"
    },
    {
      "cell_type": "markdown",
      "metadata": {},
      "source": [
        "Then, drop at randome 10% of the data, so technically have unbalanced\n",
        "panel. It can be estimated using repeated crossection"
      ],
      "id": "05b71a88-f554-463c-94c8-7a075f81cee9"
    },
    {
      "cell_type": "code",
      "execution_count": 2,
      "metadata": {},
      "outputs": [
        {
          "output_type": "stream",
          "name": "stdout",
          "text": [
            "(239 observations deleted)\n",
            "Panel is not balanced\n",
            "Will use observations with Pair balanced (observed at t0 and t1)\n",
            "............\n",
            "Difference-in-difference with Multiple Time Periods\n",
            "\n",
            "                                                         Number of obs = 2,227\n",
            "Outcome model  : regression adjustment\n",
            "Treatment model: none\n",
            "------------------------------------------------------------------------------\n",
            "             | Coefficient  Std. err.      z    P>|z|     [95% conf. interval]\n",
            "-------------+----------------------------------------------------------------\n",
            "g2004        |\n",
            " t_2003_2004 |  -.0062926   .0225497    -0.28   0.780    -.0504892     .037904\n",
            " t_2003_2005 |  -.0960718   .0357584    -2.69   0.007    -.1661569   -.0259866\n",
            " t_2003_2006 |  -.1633641   .0417271    -3.92   0.000    -.2451478   -.0815804\n",
            " t_2003_2007 |  -.1295976     .03268    -3.97   0.000    -.1936492   -.0655459\n",
            "-------------+----------------------------------------------------------------\n",
            "g2006        |\n",
            " t_2003_2004 |  -.0056589   .0259825    -0.22   0.828    -.0565836    .0452658\n",
            " t_2004_2005 |   .0014362   .0200922     0.07   0.943    -.0379438    .0408162\n",
            " t_2005_2006 |   .0007738   .0189435     0.04   0.967    -.0363548    .0379024\n",
            " t_2005_2007 |  -.0424921   .0208849    -2.03   0.042    -.0834256   -.0015585\n",
            "-------------+----------------------------------------------------------------\n",
            "g2007        |\n",
            " t_2003_2004 |   .0351093   .0170156     2.06   0.039     .0017593    .0684593\n",
            " t_2004_2005 |   .0040527   .0170957     0.24   0.813    -.0294543    .0375596\n",
            " t_2005_2006 |  -.0326528   .0197723    -1.65   0.099    -.0714057    .0061001\n",
            " t_2006_2007 |  -.0367615   .0166226    -2.21   0.027    -.0693412   -.0041819\n",
            "------------------------------------------------------------------------------\n",
            "Control: Never Treated\n",
            "\n",
            "See Callaway and Sant'Anna (2021) for details"
          ]
        }
      ],
      "source": [
        "drop if runiform()<.1\n",
        "** as Panel with unbalanced Data\n",
        "csdid lemp,  ivar( countyreal) gvar(first) time(year)"
      ],
      "id": "1ca5a348"
    },
    {
      "cell_type": "code",
      "execution_count": 3,
      "metadata": {},
      "outputs": [
        {
          "output_type": "stream",
          "name": "stdout",
          "text": [
            "............\n",
            "Difference-in-difference with Multiple Time Periods\n",
            "\n",
            "                                                         Number of obs = 2,261\n",
            "Outcome model  : regression adjustment\n",
            "Treatment model: none\n",
            "                           (Std. err. adjusted for 500 clusters in countyreal)\n",
            "------------------------------------------------------------------------------\n",
            "             | Coefficient  Std. err.      z    P>|z|     [95% conf. interval]\n",
            "-------------+----------------------------------------------------------------\n",
            "g2004        |\n",
            " t_2003_2004 |  -.1173444   .1395652    -0.84   0.400    -.3908872    .1561983\n",
            " t_2003_2005 |  -.2553488   .2439786    -1.05   0.295     -.733538    .2228404\n",
            " t_2003_2006 |  -.3608912   .1722595    -2.10   0.036    -.6985137   -.0232687\n",
            " t_2003_2007 |   -.305137    .112898    -2.70   0.007     -.526413    -.083861\n",
            "-------------+----------------------------------------------------------------\n",
            "g2006        |\n",
            " t_2003_2004 |   .1768316   .0896097     1.97   0.048     .0011998    .3524635\n",
            " t_2004_2005 |  -.0357726   .0452432    -0.79   0.429    -.1244476    .0529023\n",
            " t_2005_2006 |  -.0432086   .0603687    -0.72   0.474     -.161529    .0751118\n",
            " t_2005_2007 |  -.0878768   .0868235    -1.01   0.311    -.2580476    .0822941\n",
            "-------------+----------------------------------------------------------------\n",
            "g2007        |\n",
            " t_2003_2004 |   .0827665   .0756403     1.09   0.274    -.0654857    .2310188\n",
            " t_2004_2005 |  -.0469567   .0626924    -0.75   0.454    -.1698316    .0759182\n",
            " t_2005_2006 |  -.1242509   .0631495    -1.97   0.049    -.2480217   -.0004801\n",
            " t_2006_2007 |  -.0591166   .0838097    -0.71   0.481    -.2233807    .1051475\n",
            "------------------------------------------------------------------------------\n",
            "Control: Never Treated\n",
            "\n",
            "See Callaway and Sant'Anna (2021) for details"
          ]
        }
      ],
      "source": [
        "** As RC\n",
        "csdid lemp,  cluster( countyreal) gvar(first) time(year)"
      ],
      "id": "a9f92724"
    },
    {
      "cell_type": "markdown",
      "metadata": {},
      "source": [
        "The second one produces odd results, which is not unexpected.\n",
        "\n",
        "Now using the residuals Idea:"
      ],
      "id": "5f9a5fb9-4a8d-416e-bb78-df826dc0b886"
    },
    {
      "cell_type": "code",
      "execution_count": 4,
      "metadata": {},
      "outputs": [
        {
          "output_type": "stream",
          "name": "stdout",
          "text": [
            "(dropped 1 singleton observations)\n",
            "(MWFE estimator converged in 5 iterations)\n",
            "\n",
            "HDFE Linear regression                            Number of obs   =      2,260\n",
            "Absorbing 2 HDFE groups                           F(   0,   1757) =          .\n",
            "                                                  Prob > F        =          .\n",
            "                                                  R-squared       =     0.9935\n",
            "                                                  Adj R-squared   =     0.9916\n",
            "                                                  Within R-sq.    =     0.0000\n",
            "                                                  Root MSE        =     0.1378\n",
            "\n",
            "------------------------------------------------------------------------------\n",
            "        lemp | Coefficient  Std. err.      t    P>|t|     [95% conf. interval]\n",
            "-------------+----------------------------------------------------------------\n",
            "       _cons |    5.78452   .0028984  1995.80   0.000     5.778835    5.790205\n",
            "------------------------------------------------------------------------------\n",
            "\n",
            "Absorbed degrees of freedom:\n",
            "-----------------------------------------------------+\n",
            " Absorbed FE | Categories  - Redundant  = Num. Coefs |\n",
            "-------------+---------------------------------------|\n",
            "        year |         5           0           5     |\n",
            "  countyreal |       499           1         498     |\n",
            "-----------------------------------------------------+\n",
            "............\n",
            "Difference-in-difference with Multiple Time Periods\n",
            "\n",
            "                                                         Number of obs = 2,260\n",
            "Outcome model  : regression adjustment\n",
            "Treatment model: none\n",
            "                           (Std. err. adjusted for 499 clusters in countyreal)\n",
            "------------------------------------------------------------------------------\n",
            "             | Coefficient  Std. err.      z    P>|z|     [95% conf. interval]\n",
            "-------------+----------------------------------------------------------------\n",
            "g2004        |\n",
            " t_2003_2004 |  -.0144231   .0247539    -0.58   0.560    -.0629399    .0340936\n",
            " t_2003_2005 |  -.0843181   .0330384    -2.55   0.011    -.1490721   -.0195641\n",
            " t_2003_2006 |  -.1555145   .0381466    -4.08   0.000    -.2302805   -.0807484\n",
            " t_2003_2007 |  -.1105423   .0356191    -3.10   0.002    -.1803544   -.0407302\n",
            "-------------+----------------------------------------------------------------\n",
            "g2006        |\n",
            " t_2003_2004 |  -.0105662   .0261878    -0.40   0.687    -.0618934     .040761\n",
            " t_2004_2005 |  -.0051092   .0202832    -0.25   0.801    -.0448636    .0346453\n",
            " t_2005_2006 |  -.0040826   .0182119    -0.22   0.823    -.0397772     .031612\n",
            " t_2005_2007 |  -.0347436   .0202887    -1.71   0.087    -.0745088    .0050216\n",
            "-------------+----------------------------------------------------------------\n",
            "g2007        |\n",
            " t_2003_2004 |   .0254408   .0185718     1.37   0.171    -.0109592    .0618407\n",
            " t_2004_2005 |  -.0038647   .0166224    -0.23   0.816     -.036444    .0287147\n",
            " t_2005_2006 |   -.036962   .0187402    -1.97   0.049     -.073692   -.0002319\n",
            " t_2006_2007 |   -.027827   .0166274    -1.67   0.094     -.060416     .004762\n",
            "------------------------------------------------------------------------------\n",
            "Control: Never Treated\n",
            "\n",
            "See Callaway and Sant'Anna (2021) for details"
          ]
        }
      ],
      "source": [
        "** Getting residuals\n",
        "reghdfe lemp, abs( year countyreal) resid\n",
        "** AS RC but with residuals\n",
        "csdid _reghdfe_resid, cluster( countyreal) gvar(first) time(year)"
      ],
      "id": "6fea517d"
    },
    {
      "cell_type": "markdown",
      "metadata": {},
      "source": [
        "I think this produces much better results! Not sure how would this\n",
        "translate in other frameworks, tho."
      ],
      "id": "6a2263a2-e423-4d81-b73e-8e09e9fe1bac"
    }
  ],
  "nbformat": 4,
  "nbformat_minor": 5,
  "metadata": {
    "kernelspec": {
      "name": "nbstata",
      "display_name": "Stata (nbstata)",
      "language": "stata"
    }
  }
}