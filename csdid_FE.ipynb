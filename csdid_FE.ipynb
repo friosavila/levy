{
  "cells": [
    {
      "cell_type": "markdown",
      "metadata": {},
      "source": [
        "# csdid with RC/Panel\n",
        "\n",
        "First. Some other tools. Please copy\n",
        "[this](https://friosavila.github.io/stpackages/fra/fra.ado) file, run\n",
        "it, and type:\n",
        "\n",
        "``` stata\n",
        "** just for data example\n",
        "ssc install frause\n",
        "** for installing csdid2\n",
        "fra install fra\n",
        "fra install csdid2\n",
        "```\n",
        "\n",
        "Now the example.\n",
        "\n",
        "First Run csdid with panel data"
      ],
      "id": "fb348ad1-88bd-4b2a-9d56-40b857433dc8"
    },
    {
      "cell_type": "code",
      "execution_count": 1,
      "metadata": {},
      "outputs": [
        {
          "output_type": "stream",
          "name": "stdout",
          "text": [
            "(Written by R.              )\n",
            "............\n",
            "Difference-in-difference with Multiple Time Periods\n",
            "\n",
            "                                                         Number of obs = 2,500\n",
            "Outcome model  : regression adjustment\n",
            "Treatment model: none\n",
            "------------------------------------------------------------------------------\n",
            "             | Coefficient  Std. err.      z    P>|z|     [95% conf. interval]\n",
            "-------------+----------------------------------------------------------------\n",
            "g2004        |\n",
            " t_2003_2004 |  -.0105032    .023251    -0.45   0.651    -.0560744    .0350679\n",
            " t_2003_2005 |  -.0704232   .0309848    -2.27   0.023    -.1311522   -.0096941\n",
            " t_2003_2006 |  -.1372587   .0364357    -3.77   0.000    -.2086713   -.0658461\n",
            " t_2003_2007 |  -.1008114   .0343592    -2.93   0.003    -.1681542   -.0334685\n",
            "-------------+----------------------------------------------------------------\n",
            "g2006        |\n",
            " t_2003_2004 |   .0065201   .0233268     0.28   0.780    -.0391996    .0522398\n",
            " t_2004_2005 |  -.0027508   .0195586    -0.14   0.888    -.0410849    .0355833\n",
            " t_2005_2006 |  -.0045946   .0177552    -0.26   0.796    -.0393942    .0302049\n",
            " t_2005_2007 |  -.0412245   .0202292    -2.04   0.042    -.0808729    -.001576\n",
            "-------------+----------------------------------------------------------------\n",
            "g2007        |\n",
            " t_2003_2004 |   .0305067   .0150336     2.03   0.042     .0010414    .0599719\n",
            " t_2004_2005 |  -.0027259   .0163958    -0.17   0.868    -.0348611    .0294093\n",
            " t_2005_2006 |  -.0310871   .0178775    -1.74   0.082    -.0661264    .0039522\n",
            " t_2006_2007 |  -.0260544   .0166554    -1.56   0.118    -.0586985    .0065896\n",
            "------------------------------------------------------------------------------\n",
            "Control: Never Treated\n",
            "\n",
            "See Callaway and Sant'Anna (2021) for details"
          ]
        }
      ],
      "source": [
        "frause mpdta, clear\n",
        "set seed 1\n",
        "csdid lemp, ivar( countyreal) gvar(first) time(year)"
      ],
      "id": "f18fb1af"
    },
    {
      "cell_type": "markdown",
      "metadata": {},
      "source": [
        "Then, drop at randome 10% of the data, so technically have unbalanced\n",
        "panel. It can be estimated using repeated crossection"
      ],
      "id": "62f2aa70-0859-4d74-b68e-31fd5aae4d85"
    },
    {
      "cell_type": "code",
      "execution_count": 2,
      "metadata": {},
      "outputs": [
        {
          "output_type": "stream",
          "name": "stdout",
          "text": [
            "(239 observations deleted)\n",
            "Panel is not balanced\n",
            "Will use observations with Pair balanced (observed at t0 and t1)\n",
            "............\n",
            "Difference-in-difference with Multiple Time Periods\n",
            "\n",
            "                                                         Number of obs = 2,227\n",
            "Outcome model  : least squares\n",
            "Treatment model: inverse probability\n",
            "------------------------------------------------------------------------------\n",
            "             | Coefficient  Std. err.      z    P>|z|     [95% conf. interval]\n",
            "-------------+----------------------------------------------------------------\n",
            "g2004        |\n",
            " t_2003_2004 |  -.0106321   .0213814    -0.50   0.619     -.052539    .0312747\n",
            " t_2003_2005 |  -.0997826   .0338647    -2.95   0.003    -.1661562   -.0334089\n",
            " t_2003_2006 |   -.164467   .0421525    -3.90   0.000    -.2470845   -.0818495\n",
            " t_2003_2007 |  -.1372957    .029445    -4.66   0.000    -.1950069   -.0795845\n",
            "-------------+----------------------------------------------------------------\n",
            "g2006        |\n",
            " t_2003_2004 |  -.0102468   .0250207    -0.41   0.682    -.0592865    .0387928\n",
            " t_2004_2005 |  -.0012623   .0190316    -0.07   0.947    -.0385636    .0360389\n",
            " t_2005_2006 |   .0018708   .0192118     0.10   0.922    -.0357835    .0395252\n",
            " t_2005_2007 |  -.0439769   .0200335    -2.20   0.028    -.0832418    -.004712\n",
            "-------------+----------------------------------------------------------------\n",
            "g2007        |\n",
            " t_2003_2004 |   .0313098    .015797     1.98   0.047     .0003482    .0622713\n",
            " t_2004_2005 |   .0023558   .0162905     0.14   0.885    -.0295731    .0342846\n",
            " t_2005_2006 |  -.0317725   .0198823    -1.60   0.110    -.0707412    .0071962\n",
            " t_2006_2007 |  -.0399225   .0163005    -2.45   0.014    -.0718709   -.0079741\n",
            "------------------------------------------------------------------------------\n",
            "Control: Never Treated\n",
            "\n",
            "See Callaway and Sant'Anna (2021) for details"
          ]
        }
      ],
      "source": [
        "drop if runiform()<.1\n",
        "** as Panel with unbalanced Data\n",
        "csdid lemp lpop,  ivar( countyreal) gvar(first) time(year)"
      ],
      "id": "99ce4c45"
    },
    {
      "cell_type": "code",
      "execution_count": 3,
      "metadata": {},
      "outputs": [
        {
          "output_type": "stream",
          "name": "stdout",
          "text": [
            "............\n",
            "Difference-in-difference with Multiple Time Periods\n",
            "\n",
            "                                                         Number of obs = 2,261\n",
            "Outcome model  : least squares\n",
            "Treatment model: inverse probability\n",
            "                           (Std. err. adjusted for 500 clusters in countyreal)\n",
            "------------------------------------------------------------------------------\n",
            "             | Coefficient  Std. err.      z    P>|z|     [95% conf. interval]\n",
            "-------------+----------------------------------------------------------------\n",
            "g2004        |\n",
            " t_2003_2004 |  -.0126297   .0345604    -0.37   0.715    -.0803669    .0551075\n",
            " t_2003_2005 |  -.0913197   .0384773    -2.37   0.018    -.1667338   -.0159055\n",
            " t_2003_2006 |  -.2070359    .049318    -4.20   0.000    -.3036974   -.1103744\n",
            " t_2003_2007 |   -.136554   .0317776    -4.30   0.000     -.198837   -.0742711\n",
            "-------------+----------------------------------------------------------------\n",
            "g2006        |\n",
            " t_2003_2004 |  -.0098464   .0303239    -0.32   0.745    -.0692801    .0495873\n",
            " t_2004_2005 |  -.0381135   .0237243    -1.61   0.108    -.0846122    .0083852\n",
            " t_2005_2006 |  -.0141839   .0318463    -0.45   0.656    -.0766015    .0482337\n",
            " t_2005_2007 |  -.0230668   .0350484    -0.66   0.510    -.0917604    .0456267\n",
            "-------------+----------------------------------------------------------------\n",
            "g2007        |\n",
            " t_2003_2004 |   .0596817   .0309245     1.93   0.054    -.0009293    .1202926\n",
            " t_2004_2005 |  -.0467024   .0294592    -1.59   0.113    -.1044414    .0110365\n",
            " t_2005_2006 |  -.0388017    .034514    -1.12   0.261     -.106448    .0288445\n",
            " t_2006_2007 |  -.0431742   .0312701    -1.38   0.167    -.1044625     .018114\n",
            "------------------------------------------------------------------------------\n",
            "Control: Never Treated\n",
            "\n",
            "See Callaway and Sant'Anna (2021) for details"
          ]
        }
      ],
      "source": [
        "** As RC\n",
        "csdid lemp lpop,  cluster( countyreal) gvar(first) time(year)"
      ],
      "id": "831ffe59"
    },
    {
      "cell_type": "markdown",
      "metadata": {},
      "source": [
        "The second one produces odd results, which is not unexpected.\n",
        "\n",
        "Now using the residuals Idea:"
      ],
      "id": "eef6ed3f-3ba8-4472-8ee4-efe658a78f4b"
    },
    {
      "cell_type": "code",
      "execution_count": 4,
      "metadata": {},
      "outputs": [
        {
          "output_type": "stream",
          "name": "stdout",
          "text": [
            "............\n",
            "Difference-in-difference with Multiple Time Periods\n",
            "\n",
            "                                                         Number of obs = 2,260\n",
            "Outcome model  : least squares\n",
            "Treatment model: inverse probability\n",
            "                           (Std. err. adjusted for 499 clusters in countyreal)\n",
            "------------------------------------------------------------------------------\n",
            "             | Coefficient  Std. err.      z    P>|z|     [95% conf. interval]\n",
            "-------------+----------------------------------------------------------------\n",
            "g2004        |\n",
            " t_2003_2004 |  -.0235323   .0248084    -0.95   0.343     -.072156    .0250913\n",
            " t_2003_2005 |  -.0901505   .0312695    -2.88   0.004    -.1514376   -.0288633\n",
            " t_2003_2006 |  -.1579142   .0380608    -4.15   0.000     -.232512   -.0833165\n",
            " t_2003_2007 |   -.119084   .0323402    -3.68   0.000    -.1824697   -.0556984\n",
            "-------------+----------------------------------------------------------------\n",
            "g2006        |\n",
            " t_2003_2004 |  -.0141947    .024901    -0.57   0.569    -.0629997    .0346104\n",
            " t_2004_2005 |  -.0051773   .0197164    -0.26   0.793    -.0438208    .0334661\n",
            " t_2005_2006 |    .001378   .0197077     0.07   0.944    -.0372484    .0400043\n",
            " t_2005_2007 |  -.0374866   .0194234    -1.93   0.054    -.0755558    .0005825\n",
            "-------------+----------------------------------------------------------------\n",
            "g2007        |\n",
            " t_2003_2004 |   .0218685   .0177405     1.23   0.218    -.0129023    .0566393\n",
            " t_2004_2005 |  -.0041205   .0160708    -0.26   0.798    -.0356186    .0273776\n",
            " t_2005_2006 |  -.0344927    .019066    -1.81   0.070    -.0718613     .002876\n",
            " t_2006_2007 |  -.0310214   .0164804    -1.88   0.060    -.0633224    .0012796\n",
            "------------------------------------------------------------------------------\n",
            "Control: Never Treated\n",
            "\n",
            "See Callaway and Sant'Anna (2021) for details"
          ]
        }
      ],
      "source": [
        "** Getting residuals wo year\n",
        "qui:reghdfe lemp, abs(countyreal) resid\n",
        "** AS RC but with residuals\n",
        "csdid _reghdfe_resid lpop, cluster( countyreal) gvar(first) time(year)"
      ],
      "id": "e7b71cc4"
    },
    {
      "cell_type": "code",
      "execution_count": 5,
      "metadata": {},
      "outputs": [
        {
          "output_type": "stream",
          "name": "stdout",
          "text": [
            "............\n",
            "Difference-in-difference with Multiple Time Periods\n",
            "\n",
            "                                                         Number of obs = 2,260\n",
            "Outcome model  : least squares\n",
            "Treatment model: inverse probability\n",
            "                           (Std. err. adjusted for 499 clusters in countyreal)\n",
            "------------------------------------------------------------------------------\n",
            "             | Coefficient  Std. err.      z    P>|z|     [95% conf. interval]\n",
            "-------------+----------------------------------------------------------------\n",
            "g2004        |\n",
            " t_2003_2004 |   -.022436   .0249588    -0.90   0.369    -.0713544    .0264824\n",
            " t_2003_2005 |  -.0898449   .0312509    -2.87   0.004    -.1510956   -.0285942\n",
            " t_2003_2006 |  -.1577356   .0380741    -4.14   0.000    -.2323594   -.0831118\n",
            " t_2003_2007 |  -.1192472   .0322187    -3.70   0.000    -.1823947   -.0560998\n",
            "-------------+----------------------------------------------------------------\n",
            "g2006        |\n",
            " t_2003_2004 |  -.0139274   .0249804    -0.56   0.577    -.0628881    .0350333\n",
            " t_2004_2005 |  -.0055821   .0197258    -0.28   0.777     -.044244    .0330798\n",
            " t_2005_2006 |   .0011665   .0196647     0.06   0.953    -.0373756    .0397087\n",
            " t_2005_2007 |  -.0369996   .0194188    -1.91   0.057    -.0750597    .0010606\n",
            "-------------+----------------------------------------------------------------\n",
            "g2007        |\n",
            " t_2003_2004 |   .0215591   .0178184     1.21   0.226    -.0133643    .0564825\n",
            " t_2004_2005 |  -.0041803   .0160877    -0.26   0.795    -.0357116    .0273509\n",
            " t_2005_2006 |  -.0343154   .0190396    -1.80   0.071    -.0716322    .0030015\n",
            " t_2006_2007 |   -.030636   .0164794    -1.86   0.063    -.0629351    .0016631\n",
            "------------------------------------------------------------------------------\n",
            "Control: Never Treated\n",
            "\n",
            "See Callaway and Sant'Anna (2021) for details"
          ]
        }
      ],
      "source": [
        "** Getting residuals\n",
        "qui:reghdfe lemp, abs(countyreal year) resid\n",
        "** AS RC but with residuals\n",
        "csdid _reghdfe_resid lpop, cluster( countyreal) gvar(first) time(year)"
      ],
      "id": "6c80ee81"
    },
    {
      "cell_type": "markdown",
      "metadata": {},
      "source": [
        "I think this produces much better results! Not sure how would this\n",
        "translate in other frameworks, tho."
      ],
      "id": "a3a09ecd-6692-4096-8162-467c044c229a"
    }
  ],
  "nbformat": 4,
  "nbformat_minor": 5,
  "metadata": {
    "kernelspec": {
      "name": "nbstata",
      "display_name": "Stata (nbstata)",
      "language": "stata"
    }
  }
}